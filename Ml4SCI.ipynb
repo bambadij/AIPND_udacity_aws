{
  "nbformat": 4,
  "nbformat_minor": 0,
  "metadata": {
    "colab": {
      "provenance": [],
      "gpuType": "T4",
      "include_colab_link": true
    },
    "kernelspec": {
      "name": "python3",
      "display_name": "Python 3"
    },
    "language_info": {
      "name": "python"
    },
    "accelerator": "GPU"
  },
  "cells": [
    {
      "cell_type": "markdown",
      "metadata": {
        "id": "view-in-github",
        "colab_type": "text"
      },
      "source": [
        "<a href=\"https://colab.research.google.com/github/bambadij/AIPND_udacity_aws/blob/master/Ml4SCI.ipynb\" target=\"_parent\"><img src=\"https://colab.research.google.com/assets/colab-badge.svg\" alt=\"Open In Colab\"/></a>"
      ]
    },
    {
      "cell_type": "markdown",
      "source": [
        "# ML4SCI Genie GSoC 2024 Tasks\n"
      ],
      "metadata": {
        "id": "yAqt2sGpegw2"
      }
    },
    {
      "cell_type": "markdown",
      "source": [
        " #### Common Task 1:Auto-encoder of the quart/gluon events\n"
      ],
      "metadata": {
        "id": "guR--D2leqHR"
      }
    },
    {
      "cell_type": "markdown",
      "source": [
        "###  Description\n",
        "The goal is to develop an auto-encoder model capable of caputring the essential featutres of Quart/Gluon events from the provided dataset.By training the auto-encoder,we aim to learn a compact representatition of the input images that can effectively reconstruct original events"
      ],
      "metadata": {
        "id": "VHVnG23Lerky"
      }
    },
    {
      "cell_type": "markdown",
      "source": [
        "### Objective\n",
        "Train an auto-encoder to learn representations Quart/Gluon events based three images channels (ECAL,HCAL,and Tracks)"
      ],
      "metadata": {
        "id": "AVC-ThDGeyci"
      }
    },
    {
      "cell_type": "markdown",
      "source": [
        "### Data Understanding\n",
        "\n",
        "#### Installation\n",
        "\n",
        "Setup"
      ],
      "metadata": {
        "id": "CD2ZjxDpe1XD"
      }
    },
    {
      "cell_type": "code",
      "source": [
        "#import package\n",
        "%pip install h5py"
      ],
      "metadata": {
        "id": "XUtQgtC2e9PO"
      },
      "execution_count": 1,
      "outputs": []
    },
    {
      "cell_type": "markdown",
      "source": [
        "#### Import packages/Librairies"
      ],
      "metadata": {
        "id": "ycBO9CvufGmS"
      }
    },
    {
      "cell_type": "code",
      "execution_count": null,
      "metadata": {
        "id": "83nGs4Ct-Daz"
      },
      "outputs": [],
      "source": [
        "import h5py\n",
        "import numpy as np\n",
        "import pandas as pd\n",
        "import tensorflow as tf\n",
        "import matplotlib.pyplot as plt\n",
        "from google.colab import drive\n",
        "from sklearn.model_selection import train_test_split\n",
        "from sklearn.metrics import classification_report\n",
        "from tensorflow.keras.layers import Input, Conv2D, MaxPooling2D, UpSampling2D\n",
        "from tensorflow.keras.models import Model\n",
        "import cv2"
      ]
    },
    {
      "cell_type": "code",
      "source": [
        "drive.mount('/content/drive')"
      ],
      "metadata": {
        "colab": {
          "base_uri": "https://localhost:8080/"
        },
        "id": "i3HALb6lSe-f",
        "outputId": "44454763-1be1-4977-bed9-a8cf3feeb2b3"
      },
      "execution_count": null,
      "outputs": [
        {
          "output_type": "stream",
          "name": "stdout",
          "text": [
            "Mounted at /content/drive\n"
          ]
        }
      ]
    },
    {
      "cell_type": "code",
      "source": [
        "max_train_examples = 5000\n",
        "max_valid_examples = 1000\n",
        "max_test_examples = 1000\n",
        "image_height = 128\n",
        "image_width = 128\n",
        "num_channels = 3\n",
        "\n"
      ],
      "metadata": {
        "id": "MgNn8i2ZhAQE"
      },
      "execution_count": null,
      "outputs": []
    },
    {
      "cell_type": "code",
      "source": [
        "# Load the dataset\n",
        "file_path = '/content/drive/MyDrive/google summer/quark-gluon_data-set_n139306.hdf5'\n",
        "\n",
        "X_jets_train =None\n",
        "X_jets_test = None\n",
        "X_jets_valid=None\n",
        "m0_train =None\n",
        "m0_test = None\n",
        "m0_valid =None\n",
        "\n",
        "# Specify the file path with only one occurrence of 'google summer'\n",
        "with h5py.File(file_path, 'r') as file:\n",
        "    X_jets_train = file['X_jets'][:max_train_examples]\n",
        "    m0_train = file['m0'][:max_train_examples]\n",
        "    pt_train = file['pt'][:max_train_examples]\n",
        "    y_train = file['y'][:max_train_examples]\n",
        "\n",
        "    X_jets_valid = file['X_jets'][max_train_examples:max_train_examples+max_valid_examples]\n",
        "    m0_valid = file['m0'][max_train_examples:max_train_examples+max_valid_examples]\n",
        "    pt_valid = file['pt'][max_train_examples:max_train_examples+max_valid_examples]\n",
        "    y_valid = file['y'][max_train_examples:max_train_examples+max_valid_examples]\n",
        "\n",
        "    X_jets_test = file['X_jets'][max_train_examples+max_valid_examples:max_train_examples+max_valid_examples+max_test_examples]\n",
        "    m0_test = file['m0'][max_train_examples+max_valid_examples:max_train_examples+max_valid_examples+max_test_examples]\n",
        "    pt_test = file['pt'][max_train_examples+max_valid_examples:max_train_examples+max_valid_examples+max_test_examples]\n",
        "    y_test = file['y'][max_train_examples+max_valid_examples:max_train_examples+max_valid_examples+max_test_examples]\n"
      ],
      "metadata": {
        "id": "8PwVpCDCTZr3"
      },
      "execution_count": null,
      "outputs": []
    },
    {
      "cell_type": "code",
      "source": [
        "X_jets_train.shape"
      ],
      "metadata": {
        "colab": {
          "base_uri": "https://localhost:8080/"
        },
        "id": "WyDsXSYCO5CR",
        "outputId": "a6a25893-e217-4d58-d913-7413ffe68797"
      },
      "execution_count": null,
      "outputs": [
        {
          "output_type": "execute_result",
          "data": {
            "text/plain": [
              "(5000, 125, 125, 3)"
            ]
          },
          "metadata": {},
          "execution_count": 6
        }
      ]
    },
    {
      "cell_type": "code",
      "source": [
        "X_jets_valid.shape"
      ],
      "metadata": {
        "colab": {
          "base_uri": "https://localhost:8080/"
        },
        "id": "ERY8Ju8XO-yY",
        "outputId": "d9dedccf-3152-4cee-f992-25a78b288c4f"
      },
      "execution_count": null,
      "outputs": [
        {
          "output_type": "execute_result",
          "data": {
            "text/plain": [
              "(1000, 125, 125, 3)"
            ]
          },
          "metadata": {},
          "execution_count": 7
        }
      ]
    },
    {
      "cell_type": "code",
      "source": [
        "# Redimensionner toutes les images d'un ensemble de données à la taille attendue\n",
        "def resize_images(images, new_size):\n",
        "    resized_images = []\n",
        "    for img in images:\n",
        "        resized_img = cv2.resize(img, new_size)  # Redimensionner l'image\n",
        "        resized_images.append(resized_img)\n",
        "    return resized_images\n",
        "\n"
      ],
      "metadata": {
        "id": "ugIIUd94OjX-"
      },
      "execution_count": null,
      "outputs": []
    },
    {
      "cell_type": "code",
      "source": [
        "# Redimensionner les images d'entraînement à la taille attendue\n",
        "new_size = (128, 128)  # Taille attendue par le modèle\n",
        "X_jets_train_resized = resize_images(X_jets_train, new_size)\n",
        "\n",
        "# Redimensionner les images de validation à la taille attendue\n",
        "X_jets_valid_resized = resize_images(X_jets_valid, new_size)\n",
        "X_jets_train_resized = np.array(X_jets_train_resized)\n",
        "X_jets_valid_resized = np.array(X_jets_valid_resized)\n",
        "# Entraîner le modèle avec les images redimensionnées\n"
      ],
      "metadata": {
        "id": "rdAFWCwXOTCG"
      },
      "execution_count": null,
      "outputs": []
    },
    {
      "cell_type": "code",
      "source": [
        "X_jets_valid_resized.shape"
      ],
      "metadata": {
        "colab": {
          "base_uri": "https://localhost:8080/"
        },
        "id": "-oBvvshFPHDR",
        "outputId": "00fb1ddf-9629-4431-d625-0fef230e9a98"
      },
      "execution_count": null,
      "outputs": [
        {
          "output_type": "execute_result",
          "data": {
            "text/plain": [
              "(1000, 128, 128, 3)"
            ]
          },
          "metadata": {},
          "execution_count": 12
        }
      ]
    },
    {
      "cell_type": "code",
      "source": [
        "X_jets_train_resized.shape"
      ],
      "metadata": {
        "colab": {
          "base_uri": "https://localhost:8080/"
        },
        "id": "upCyrZERVIKg",
        "outputId": "8a0595bd-0acf-46d2-8b05-a4a890513e39"
      },
      "execution_count": null,
      "outputs": [
        {
          "output_type": "execute_result",
          "data": {
            "text/plain": [
              "(5000, 128, 128, 3)"
            ]
          },
          "metadata": {},
          "execution_count": 13
        }
      ]
    },
    {
      "cell_type": "code",
      "source": [
        "# Définir l'entrée du modèle\n",
        "input_img = Input(shape=(128, 128, 3))\n",
        "\n",
        "# Encoder\n",
        "x = Conv2D(32, (3, 3), activation='relu', padding='same')(input_img)\n",
        "x = MaxPooling2D((2, 2), padding='same')(x)\n",
        "x = Conv2D(64, (3, 3), activation='relu', padding='same')(x)\n",
        "x = MaxPooling2D((2, 2), padding='same')(x)\n",
        "\n",
        "# Decoder\n",
        "x = Conv2D(64, (3, 3), activation='relu', padding='same')(x)\n",
        "x = UpSampling2D((2, 2))(x)\n",
        "x = Conv2D(32, (3, 3), activation='relu', padding='same')(x)\n",
        "x = UpSampling2D((2, 2))(x)\n",
        "decoded = Conv2D(3, (3, 3), activation='sigmoid', padding='same')(x)  # Pas d'activation pour une sortie linéaire\n",
        "\n",
        "# Créer le modèle\n",
        "autoencoder = Model(input_img, decoded)\n",
        "\n",
        "# Compiler le modèle avec la perte quadratique moyenne\n",
        "autoencoder.compile(optimizer='adam', loss='mean_squared_error')\n",
        "\n",
        "# Afficher un résumé du modèle\n",
        "autoencoder.summary()\n"
      ],
      "metadata": {
        "colab": {
          "base_uri": "https://localhost:8080/"
        },
        "id": "JdsR86pFbLU_",
        "outputId": "67e622a4-f686-435c-df39-f4498ca205a2"
      },
      "execution_count": null,
      "outputs": [
        {
          "output_type": "stream",
          "name": "stdout",
          "text": [
            "Model: \"model_1\"\n",
            "_________________________________________________________________\n",
            " Layer (type)                Output Shape              Param #   \n",
            "=================================================================\n",
            " input_2 (InputLayer)        [(None, 128, 128, 3)]     0         \n",
            "                                                                 \n",
            " conv2d_5 (Conv2D)           (None, 128, 128, 32)      896       \n",
            "                                                                 \n",
            " max_pooling2d_2 (MaxPoolin  (None, 64, 64, 32)        0         \n",
            " g2D)                                                            \n",
            "                                                                 \n",
            " conv2d_6 (Conv2D)           (None, 64, 64, 64)        18496     \n",
            "                                                                 \n",
            " max_pooling2d_3 (MaxPoolin  (None, 32, 32, 64)        0         \n",
            " g2D)                                                            \n",
            "                                                                 \n",
            " conv2d_7 (Conv2D)           (None, 32, 32, 64)        36928     \n",
            "                                                                 \n",
            " up_sampling2d_2 (UpSamplin  (None, 64, 64, 64)        0         \n",
            " g2D)                                                            \n",
            "                                                                 \n",
            " conv2d_8 (Conv2D)           (None, 64, 64, 32)        18464     \n",
            "                                                                 \n",
            " up_sampling2d_3 (UpSamplin  (None, 128, 128, 32)      0         \n",
            " g2D)                                                            \n",
            "                                                                 \n",
            " conv2d_9 (Conv2D)           (None, 128, 128, 3)       867       \n",
            "                                                                 \n",
            "=================================================================\n",
            "Total params: 75651 (295.51 KB)\n",
            "Trainable params: 75651 (295.51 KB)\n",
            "Non-trainable params: 0 (0.00 Byte)\n",
            "_________________________________________________________________\n"
          ]
        }
      ]
    },
    {
      "cell_type": "code",
      "source": [
        "# Entraînement de l'auto-encodeur\n",
        "history = autoencoder.fit(X_jets_train_resized, X_jets_train_resized,\n",
        "                          epochs=10,\n",
        "                          batch_size=32,\n",
        "                          shuffle=True,\n",
        "                          validation_data=(X_jets_valid_resized, X_jets_valid_resized))\n"
      ],
      "metadata": {
        "colab": {
          "base_uri": "https://localhost:8080/"
        },
        "id": "w5UA1KoqWL98",
        "outputId": "fa38592a-1948-4a0a-ec54-79fe2dcf1495"
      },
      "execution_count": null,
      "outputs": [
        {
          "output_type": "stream",
          "name": "stdout",
          "text": [
            "Epoch 1/10\n",
            "157/157 [==============================] - 14s 43ms/step - loss: 0.0206 - val_loss: 3.4516e-06\n",
            "Epoch 2/10\n",
            "157/157 [==============================] - 6s 36ms/step - loss: 2.4446e-06 - val_loss: 3.3096e-06\n",
            "Epoch 3/10\n",
            "157/157 [==============================] - 6s 35ms/step - loss: 2.2997e-06 - val_loss: 3.1763e-06\n",
            "Epoch 4/10\n",
            "157/157 [==============================] - 6s 37ms/step - loss: 2.1945e-06 - val_loss: 3.1010e-06\n",
            "Epoch 5/10\n",
            "157/157 [==============================] - 6s 36ms/step - loss: 2.1416e-06 - val_loss: 3.0662e-06\n",
            "Epoch 6/10\n",
            "157/157 [==============================] - 6s 38ms/step - loss: 2.1170e-06 - val_loss: 3.0495e-06\n",
            "Epoch 7/10\n",
            "157/157 [==============================] - 6s 36ms/step - loss: 2.1048e-06 - val_loss: 3.0408e-06\n",
            "Epoch 8/10\n",
            "157/157 [==============================] - 6s 38ms/step - loss: 2.0980e-06 - val_loss: 3.0357e-06\n",
            "Epoch 9/10\n",
            "157/157 [==============================] - 6s 37ms/step - loss: 2.0940e-06 - val_loss: 3.0325e-06\n",
            "Epoch 10/10\n",
            "157/157 [==============================] - 6s 36ms/step - loss: 2.0914e-06 - val_loss: 3.0304e-06\n"
          ]
        }
      ]
    },
    {
      "cell_type": "code",
      "source": [
        "import matplotlib.pyplot as plt\n",
        "\n",
        "# Récupérer les valeurs de perte d'entraînement et de validation depuis l'historique\n",
        "loss = history.history['loss']\n",
        "val_loss = history.history['val_loss']\n",
        "\n",
        "# Tracer la perte d'entraînement et de validation\n",
        "epochs = range(1, len(loss) + 1)\n",
        "plt.plot(epochs, loss, 'bo', label='Training loss')\n",
        "plt.plot(epochs, val_loss, 'b', label='Validation loss')\n",
        "plt.title('Training and validation loss')\n",
        "plt.xlabel('Epochs')\n",
        "plt.ylabel('Loss')\n",
        "plt.legend()\n",
        "plt.show()\n"
      ],
      "metadata": {
        "colab": {
          "base_uri": "https://localhost:8080/",
          "height": 472
        },
        "id": "xefbLgNqX9jS",
        "outputId": "b8a812c4-e253-44bd-cd04-b7f31e99447d"
      },
      "execution_count": null,
      "outputs": [
        {
          "output_type": "display_data",
          "data": {
            "text/plain": [
              "<Figure size 640x480 with 1 Axes>"
            ],
            "image/png": "[encoded data removed]"
          },
          "metadata": {}
        }
      ]
    },
    {
      "cell_type": "code",
      "source": [
        "from tensorflow.keras.callbacks import ReduceLROnPlateau\n"
      ],
      "metadata": {
        "id": "SlBjK7MrZT8O"
      },
      "execution_count": null,
      "outputs": []
    },
    {
      "cell_type": "code",
      "source": [
        "# Définir le callback ReduceLROnPlateau\n",
        "reduce_lr = ReduceLROnPlateau(monitor='val_loss', factor=0.2, patience=5, min_lr=0.0001)\n"
      ],
      "metadata": {
        "id": "LMZ7GCL5ZdN9"
      },
      "execution_count": null,
      "outputs": []
    },
    {
      "cell_type": "code",
      "source": [
        "# Entraîner le modèle en utilisant le callback\n",
        "history = autoencoder.fit(X_jets_train_resized, X_jets_train_resized,\n",
        "                          epochs=10,\n",
        "                          batch_size=32,\n",
        "                          shuffle=True,\n",
        "                          validation_data=(X_jets_valid_resized, X_jets_valid_resized),\n",
        "                          callbacks=[reduce_lr])"
      ],
      "metadata": {
        "colab": {
          "base_uri": "https://localhost:8080/"
        },
        "id": "lGxrHaNtar7o",
        "outputId": "695406be-e21d-4db7-e1c8-9a2f47d07173"
      },
      "execution_count": null,
      "outputs": [
        {
          "output_type": "stream",
          "name": "stdout",
          "text": [
            "Epoch 1/10\n",
            "157/157 [==============================] - 7s 43ms/step - loss: 2.0897e-06 - val_loss: 3.0290e-06 - lr: 0.0010\n",
            "Epoch 2/10\n",
            "157/157 [==============================] - 6s 36ms/step - loss: 2.0884e-06 - val_loss: 3.0279e-06 - lr: 0.0010\n",
            "Epoch 3/10\n",
            "157/157 [==============================] - 6s 37ms/step - loss: 2.0875e-06 - val_loss: 3.0272e-06 - lr: 0.0010\n",
            "Epoch 4/10\n",
            "157/157 [==============================] - 6s 36ms/step - loss: 2.0868e-06 - val_loss: 3.0266e-06 - lr: 0.0010\n",
            "Epoch 5/10\n",
            "157/157 [==============================] - 6s 37ms/step - loss: 2.0863e-06 - val_loss: 3.0261e-06 - lr: 0.0010\n",
            "Epoch 6/10\n",
            "157/157 [==============================] - 6s 38ms/step - loss: 2.0859e-06 - val_loss: 3.0257e-06 - lr: 0.0010\n",
            "Epoch 7/10\n",
            "157/157 [==============================] - 6s 38ms/step - loss: 2.0857e-06 - val_loss: 3.0256e-06 - lr: 2.0000e-04\n",
            "Epoch 8/10\n",
            "157/157 [==============================] - 6s 37ms/step - loss: 2.0856e-06 - val_loss: 3.0256e-06 - lr: 2.0000e-04\n",
            "Epoch 9/10\n",
            "157/157 [==============================] - 6s 37ms/step - loss: 2.0855e-06 - val_loss: 3.0255e-06 - lr: 2.0000e-04\n",
            "Epoch 10/10\n",
            "157/157 [==============================] - 6s 37ms/step - loss: 2.0855e-06 - val_loss: 3.0254e-06 - lr: 2.0000e-04\n"
          ]
        }
      ]
    },
    {
      "cell_type": "code",
      "source": [
        "import matplotlib.pyplot as plt\n",
        "\n",
        "# Tracer les courbes de perte\n",
        "plt.plot(history.history['loss'], label='Training Loss')\n",
        "plt.plot(history.history['val_loss'], label='Validation Loss')\n",
        "plt.title('Training and Validation Loss')\n",
        "plt.xlabel('Epochs')\n",
        "plt.ylabel('Loss')\n",
        "plt.legend()\n",
        "plt.show()\n"
      ],
      "metadata": {
        "colab": {
          "base_uri": "https://localhost:8080/",
          "height": 472
        },
        "id": "9PiVbu_CcfCD",
        "outputId": "ffdadbc1-decc-4158-a478-af2db0e19a8d"
      },
      "execution_count": null,
      "outputs": [
        {
          "output_type": "display_data",
          "data": {
            "text/plain": [
              "<Figure size 640x480 with 1 Axes>"
            ],
            "image/png": "[encoded data removed]"
          },
          "metadata": {}
        }
      ]
    }
  ]
}